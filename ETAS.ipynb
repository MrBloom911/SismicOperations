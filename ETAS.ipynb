{
 "cells": [
  {
   "cell_type": "code",
   "execution_count": 307,
   "id": "403b33d5-331f-4ed3-a46d-dddf74825ba5",
   "metadata": {},
   "outputs": [],
   "source": [
    "def warn(*args, **kwargs):\n",
    "    pass\n",
    "import warnings\n",
    "warnings.warn= warn\n",
    "\n",
    "import string\n",
    "import pandas as pd\n",
    "import numpy as np\n",
    "import matplotlib.pyplot as plt\n",
    "import seaborn as sns\n",
    "import re\n",
    "from scipy import stats\n",
    "import statsmodels.api as sm \n",
    "from sklearn.model_selection import train_test_split\n",
    "from sklearn.manifold import MDS\n",
    "from sklearn.preprocessing import StandardScaler\n",
    "from sklearn.decomposition import PCA,KernelPCA\n",
    "from sklearn.compose import ColumnTransformer\n",
    "from sklearn.preprocessing import OneHotEncoder\n",
    "from sklearn.cluster import KMeans\n",
    "from datetime import datetime, timedelta\n",
    "import numpy as np\n",
    "from scipy.optimize import *\n",
    "import sympy as sp\n",
    "from sympy import *\n",
    "import scipy.integrate as spi\n",
    "from scipy import *\n",
    "warnings.filterwarnings('ignore')\n",
    "\n",
    "sns.set_context('notebook')\n",
    "sns.set_style('white')"
   ]
  },
  {
   "cell_type": "code",
   "execution_count": 308,
   "id": "1ffac2d3-e037-45eb-9115-f540b65e9ae6",
   "metadata": {},
   "outputs": [
    {
     "name": "stdout",
     "output_type": "stream",
     "text": [
      "                      Time  Latitude  Longitude  Depth/Km  Magnitude\n",
      "0  2016-08-24 03:36:32.000   42.6983    13.2335       8.1        6.0\n",
      "1  2016-08-24 03:37:26.580   42.7123    13.2533       9.0        4.5\n",
      "2  2016-08-24 03:40:46.590   42.7647    13.1723       9.7        3.8\n",
      "3  2016-08-24 03:41:38.900   42.7803    13.1683       9.7        3.9\n",
      "4  2016-08-24 03:42:07.170   42.7798    13.1575       9.7        3.6\n"
     ]
    }
   ],
   "source": [
    "Filepath= r\"Dataset.csv\"\n",
    "df=pd.read_csv(Filepath)\n",
    "print(df.head())"
   ]
  },
  {
   "cell_type": "code",
   "execution_count": 309,
   "id": "76d7eaa9-e123-4f55-a0a6-46d9883a2e1b",
   "metadata": {},
   "outputs": [],
   "source": [
    "df['Time']=pd.to_datetime(df['Time'])"
   ]
  },
  {
   "cell_type": "code",
   "execution_count": 310,
   "id": "b4063cc7-0fd6-4d24-a444-c05f7e38ffb0",
   "metadata": {},
   "outputs": [],
   "source": [
    "dfD=df[df['Magnitude'] > 3.0 ]\n",
    "dfD.reset_index(drop=True, inplace=True)"
   ]
  },
  {
   "cell_type": "code",
   "execution_count": 311,
   "id": "716b7a2e-e288-4218-9eba-dd78a57d4c1e",
   "metadata": {},
   "outputs": [],
   "source": [
    "dfD\n",
    "window_size = '1W'\n",
    "groupedD = dfD.groupby(pd.Grouper(key='Time', freq=window_size))"
   ]
  },
  {
   "cell_type": "code",
   "execution_count": 312,
   "id": "33b07950-49ed-4e94-9074-e4ae407b0b1a",
   "metadata": {},
   "outputs": [],
   "source": [
    "Wind0='2016-08-28 00:00:00'\n",
    "Wind1='2016-09-04 00:00:00'\n",
    "Wind2='2016-09-11 00:00:00'\n",
    "Wind3='2016-09-18 00:00:00'\n",
    "Wind4='2016-09-25 00:00:00'\n",
    "Wind5='2016-10-02 00:00:00'\n",
    "Wind6='2016-10-09 00:00:00'\n",
    "Wind7='2016-10-16 00:00:00'\n",
    "Wind8='2016-10-23 00:00:00'\n",
    "Wind9='2016-10-30 00:00:00'\n",
    "Wind10='2016-11-06 00:00:00'\n",
    "Wind11='2016-11-13 00:00:00'\n",
    "Wind12='2016-11-20 00:00:00'\n",
    "Wind13='2016-11-27 00:00:00'\n",
    "Wind14='2016-12-04 00:00:00'"
   ]
  },
  {
   "cell_type": "code",
   "execution_count": 313,
   "id": "1ded52d4-f163-4339-beb2-276da5e9d30d",
   "metadata": {},
   "outputs": [],
   "source": [
    "Ventana1= groupedD.get_group(Wind0).to_numpy()\n",
    "Ventana2= groupedD.get_group(Wind1).to_numpy()\n",
    "Ventana3= groupedD.get_group(Wind2).to_numpy()\n",
    "Ventana4= groupedD.get_group(Wind3).to_numpy()\n",
    "Ventana5= groupedD.get_group(Wind4).to_numpy()\n",
    "Ventana6= groupedD.get_group(Wind5).to_numpy()\n",
    "Ventana7= groupedD.get_group(Wind6).to_numpy()\n",
    "Ventana8= groupedD.get_group(Wind7).to_numpy()\n",
    "#Ventana9= groupedD.get_group(Wind8)\n",
    "Ventana10= groupedD.get_group(Wind9).to_numpy()\n",
    "Ventana11= groupedD.get_group(Wind10).to_numpy()\n",
    "Ventana12= groupedD.get_group(Wind11).to_numpy()\n",
    "Ventana13= groupedD.get_group(Wind12).to_numpy()\n",
    "Ventana14= groupedD.get_group(Wind13).to_numpy()\n",
    "Ventana15= groupedD.get_group(Wind14).to_numpy()"
   ]
  },
  {
   "cell_type": "code",
   "execution_count": 314,
   "id": "d0937fed-e567-47cb-a49f-243890e3d1b5",
   "metadata": {},
   "outputs": [],
   "source": [
    "Columnas=['Time','Latitude','Longitude','Depth','Magnitude']\n",
    "dfV1=pd.DataFrame(Ventana1, columns=Columnas)\n",
    "dfV2=pd.DataFrame(Ventana2, columns=Columnas)\n",
    "dfV3=pd.DataFrame(Ventana3, columns=Columnas)\n",
    "dfV4=pd.DataFrame(Ventana4, columns=Columnas)\n",
    "dfV5=pd.DataFrame(Ventana5, columns=Columnas)\n",
    "dfV6=pd.DataFrame(Ventana6, columns=Columnas)\n",
    "dfV7=pd.DataFrame(Ventana7, columns=Columnas)\n",
    "dfV8=pd.DataFrame(Ventana8, columns=Columnas)\n",
    "dfV10=pd.DataFrame(Ventana10, columns=Columnas)\n",
    "dfV11=pd.DataFrame(Ventana11, columns=Columnas)\n",
    "dfV12=pd.DataFrame(Ventana12, columns=Columnas)\n",
    "dfV13=pd.DataFrame(Ventana13, columns=Columnas)\n",
    "dfV14=pd.DataFrame(Ventana14, columns=Columnas)\n",
    "dfV15=pd.DataFrame(Ventana15, columns=Columnas)"
   ]
  },
  {
   "cell_type": "code",
   "execution_count": 315,
   "id": "3ab0ce4a-100c-4da0-9b41-feade6ea90ea",
   "metadata": {},
   "outputs": [],
   "source": [
    "def VECTS(df):\n",
    "    DT=df['Time'].iloc[len(df)-1]-df['Time'].iloc[0]\n",
    "    DTD= DT.total_seconds() / (60*60*24)\n",
    "    T=np.linspace(1, int(DTD) ,num=len(df))\n",
    "    xi = dfV1['Latitude'].min()\n",
    "    xf = dfV1['Latitude'].max()\n",
    "    yi = dfV1['Longitude'].min()\n",
    "    yf = dfV1['Longitude'].max()\n",
    "    ti = min(T)\n",
    "    tf = max(T)\n",
    "    Mc=3.0\n",
    "    Mm=max(df['Magnitude'])\n",
    "    mp=Mm-Mc\n",
    "    X = np.zeros(len(df))\n",
    "    Y = np.zeros(len(df))\n",
    "    M = np.zeros(len(df))\n",
    "    L = np.zeros(len(df))\n",
    "    for i in df.index:\n",
    "        M[i]=df['Magnitude'].iloc[i]-Mc\n",
    "        X[i]=df['Latitude'].iloc[len(df)-1]-df['Latitude'].iloc[i]\n",
    "        Y[i]=df['Longitude'].iloc[len(df)-1]-df['Longitude'].iloc[i]\n",
    "        L[i]=(np.power(X[i],2)+np.power(Y[i],2))\n",
    "    DTD= DT.total_seconds() / (60*60*24)\n",
    "    T=np.linspace(1, int(DTD) ,num=len(df))\n",
    "    return X,Y,L,M,T,xi,xf,yi,yf,ti,tf,mp\n",
    "\n",
    "def EQETAS(X,Y,L,M,T):\n",
    "    XO=sp.sympify(X)\n",
    "    YO=sp.sympify(Y)\n",
    "    LO=sp.sympify(L)\n",
    "    MO=sp.sympify(M)\n",
    "    TO=sp.sympify(T)\n",
    "    FA=[]\n",
    "    N=X.size\n",
    "    x,y,k,p,c,t,a,m,d,q,u = symbols ('x, y, k, p, c, t, a, m, d, q, u')\n",
    "    f1=u+k*(sp.Pow((t)+c,-p))*sp.Pow(( (x**2 + y**2) / exp(m*a) )+ d ,-q)\n",
    "    for i in range(N):\n",
    "        A=sp.simplify(f1.subs(x,XO[i]).subs(y,YO[i]).subs(t,TO[i]).subs(m,MO[i])).evalf()\n",
    "        Leq=sp.log(A)\n",
    "        FA.append(Leq)\n",
    "    Eq=sum(FA)\n",
    "    return Eq\n",
    "\n",
    "def IEQ(xi,xf,yi,yf,ti,tf,mp):\n",
    "    u1=0.000335\n",
    "    k1=0.00016700000000000002\n",
    "    c1=0.0051400000000000005\n",
    "    a1=0.961\n",
    "    d1=0.00034100000000000005\n",
    "    q1=1.405\n",
    "    p1=0.961\n",
    "    x,y,k,p,c,t,a,m,d,q,u = symbols('x, y, k, p, c, t, a, m, d, q, u')\n",
    "    f1=u+k*(sp.Pow((t)+c,-p))*sp.Pow(( (x**2 + y**2) / exp(m*a) )+ d ,-q)\n",
    "    #f2= sp.integrate(f1,(x,xi,xf),(y,yi,yf),(t,ti,tf)).doit()\n",
    "    f2=f1.subs(u,u1).subs(k,k1).subs(c,c1).subs(a,a1).subs(d,d1).subs(q,q1).subs(p,p1).subs(m,mp)\n",
    "    f2_np = lambdify((x, y, t), f2, modules=['scipy'])\n",
    "    resultado, error=spi.nquad(f2_np, [(xi, xf), (yi, yf), (ti, tf)])\n",
    "    return resultado\n",
    "\n",
    "def ETSA(X,Y,L,M,T,P,r):\n",
    "    k,p,c,a,d,q,u = symbols ('k, p, c, a, d, q, u')\n",
    "    k1=P[0]\n",
    "    p1=P[1]\n",
    "    c1=P[2]\n",
    "    a1=P[3]\n",
    "    d1=P[4]\n",
    "    q1=P[5]\n",
    "    u1=P[6]\n",
    "    H=EQETAS(X,Y,L,M,T)\n",
    "    LH=(-1)*(H-r)\n",
    "    LLH=lambdify((k,p,c,a,d,q,u), LH, modules=['scipy'])\n",
    "    return LLH(k1,p1,c1,a1,d1,q1,u1)"
   ]
  },
  {
   "cell_type": "code",
   "execution_count": 316,
   "id": "96c439c6-22e8-47e0-ad78-9e12a45ed826",
   "metadata": {},
   "outputs": [],
   "source": [
    "X,Y,L,M,T,xi,xf,yi,yf,ti,tf,mp=VECTS(dfV15)\n",
    "P=[1,1,1,1,1,1,1]"
   ]
  },
  {
   "cell_type": "code",
   "execution_count": 317,
   "id": "d5710e19-2678-452b-b318-478e79735f3d",
   "metadata": {},
   "outputs": [],
   "source": [
    "F=EQETAS(X,Y,L,M,T)\n"
   ]
  },
  {
   "cell_type": "code",
   "execution_count": 318,
   "id": "e18a1703-4295-4b22-87c5-1766746403a1",
   "metadata": {},
   "outputs": [],
   "source": [
    "Al=IEQ(xi,xf,yi,yf,ti,tf,mp)\n",
    "#parametros de U  u, c,"
   ]
  },
  {
   "cell_type": "code",
   "execution_count": 319,
   "id": "3e6015b8-a7cf-49cf-87a6-8270f5b8371e",
   "metadata": {},
   "outputs": [],
   "source": [
    "def constraint1(P):\n",
    "    return P[1]\n",
    "\n",
    "def constraint2(P):\n",
    "    return P[2]"
   ]
  },
  {
   "cell_type": "code",
   "execution_count": 320,
   "id": "6cfe606a-bf1b-4136-b701-7713d52d528b",
   "metadata": {},
   "outputs": [],
   "source": [
    "cons = (({'type':'ineq','fun': constraint1},\n",
    "         {'type':'ineq','fun': constraint2}))\n",
    "ar1=minimize(ETSA, P, args=(X,Y,L,M,T,Al),constraints=cons)"
   ]
  },
  {
   "cell_type": "code",
   "execution_count": 321,
   "id": "00ff3996-4e20-4d03-be24-39b40e209245",
   "metadata": {},
   "outputs": [
    {
     "data": {
      "text/plain": [
       "     fun: -4.559046073957611\n",
       "     jac: array([-8.57114792e-05,  0.00000000e+00,  9.18507576e-05,  3.33786011e-05,\n",
       "       -2.38478184e-04, -3.30984592e-04, -1.06811523e-04])\n",
       " message: 'Optimization terminated successfully'\n",
       "    nfev: 80\n",
       "     nit: 10\n",
       "    njev: 10\n",
       "  status: 0\n",
       " success: True\n",
       "       x: array([-1.72943506e-04, -2.60457678e-19,  3.02624773e-04,  1.10131247e-04,\n",
       "       -7.06873160e-04, -1.04537773e-03, -2.78477279e-04])"
      ]
     },
     "execution_count": 321,
     "metadata": {},
     "output_type": "execute_result"
    }
   ],
   "source": [
    "ar1"
   ]
  },
  {
   "cell_type": "code",
   "execution_count": 324,
   "id": "187ba5e8-7b3b-4ef3-b4fc-46097f2a2c9f",
   "metadata": {},
   "outputs": [],
   "source": [
    "ps1=np.array([ 1.06416629e-04,  7.23532699e-04,  0.00000000e+00,  2.59892357e-05,\n",
    "        1.65348183e-04,  5.83631350e-05, -5.39498838e-06 ])\n",
    "ps2=np.array([-1.00907376e-03,  0.00000000e+00,  1.11955276e-03, -6.63710130e-04,\n",
    "       -1.01714512e-03, -2.95314817e-05, -1.40376072e-04])\n",
    "ps3=np.array([ 0.00259824,  0.00016385,  0.00264929,  0.0103257 ,  0.00790012,\n",
    "        0.00178515, -0.00240945])\n",
    "ps4=np.array([ 7.91678925e-03, -2.24937667e-18,  0.00000000e+00,  4.85304241e-03,\n",
    "        4.94658951e-03,  1.58154033e-02,  1.56100118e-02])\n",
    "ps5=np.array([ 1.78380057e-03, -4.33680869e-19, -9.10144050e-20, -2.33696787e-04,\n",
    "       -1.02658971e-03, -1.33237411e-04,  1.40370754e-03])\n",
    "ps7=np.array([-8.74093268e-03,  1.22110684e-01,  4.16333634e-17, -8.17223873e-03,\n",
    "        1.07833228e-02, -8.99440161e-03,  1.66036972e-01])\n",
    "ps10=np.array([-4.26526370e-04,  3.06791134e-04,  3.05915310e-04, -4.07869748e-04,\n",
    "       -3.92709681e-05,  2.04979126e-04,  6.55847463e-04])\n",
    "ps11=np.array([ 0.000256  ,  0.        ,  0.        ,  0.00016022, -0.00051516,\n",
    "       -0.00035417,  0.00067997])\n",
    "ps12=np.array([-4.47299724e-04,  1.85917733e-04,  2.11875411e-04, -4.85918961e-04,\n",
    "       -1.33879038e-03,  1.37653724e-05,  5.25280119e-05])\n",
    "ps13=np.array([-2.70107125e-03,  1.14734264e-02,  7.84394856e-19,  1.22596234e-02,\n",
    "       -7.86959694e-03, -4.94376123e-03, -4.81770859e-03])\n",
    "ps14=np.array([-8.99067435e-05, -6.73252092e-20, -3.07346789e-20,  4.13307979e-05,\n",
    "       -9.41752721e-06,  3.40353544e-04, -2.68123245e-04])\n",
    "ps15=np.array([-1.72943506e-04, -2.60457678e-19,  3.02624773e-04,  1.10131247e-04,\n",
    "       -7.06873160e-04, -1.04537773e-03, -2.78477279e-04])"
   ]
  },
  {
   "cell_type": "code",
   "execution_count": 325,
   "id": "fc7950c5-6dc4-4608-bdf8-2c5dd635a007",
   "metadata": {},
   "outputs": [],
   "source": [
    "Para = pd.DataFrame([ps1, ps2, ps3, ps4, ps5, ps7, ps10, ps11, ps12, ps13, ps14, ps15])"
   ]
  },
  {
   "cell_type": "code",
   "execution_count": 326,
   "id": "9a1d3ba3-7730-4a02-ac90-9ad746710811",
   "metadata": {},
   "outputs": [],
   "source": [
    "nuevos_nombres = ['K', 'p', 'c','a','d','q','u']\n",
    "Para.columns = nuevos_nombres"
   ]
  },
  {
   "cell_type": "code",
   "execution_count": 327,
   "id": "426881ac-ab91-4e1d-8105-ee3cd93ffad5",
   "metadata": {},
   "outputs": [],
   "source": [
    "Para\n",
    "XN=Para.iloc[:,[0,1,2,3,4,5,6]]"
   ]
  },
  {
   "cell_type": "code",
   "execution_count": 328,
   "id": "7d6184eb-e25b-468b-9a1f-dd55b875f441",
   "metadata": {},
   "outputs": [],
   "source": [
    "inertia=[]\n",
    "numCluster=list(range(1,11))\n",
    "for k in numCluster:\n",
    "    km=KMeans(n_clusters=k)\n",
    "    km.fit(XN)\n",
    "    inertia.append(km.inertia_)"
   ]
  },
  {
   "cell_type": "code",
   "execution_count": 329,
   "id": "905497ce-f9bc-446c-bacb-3e0cbcac98d4",
   "metadata": {},
   "outputs": [
    {
     "data": {
      "text/plain": [
       "Text(0, 0.5, 'Inercia')"
      ]
     },
     "execution_count": 329,
     "metadata": {},
     "output_type": "execute_result"
    },
    {
     "data": {
      "image/png": "[encoded data removed]",
      "text/plain": [
       "<Figure size 640x480 with 1 Axes>"
      ]
     },
     "metadata": {},
     "output_type": "display_data"
    }
   ],
   "source": [
    "y=np.linspace(1,10)\n",
    "plt.scatter(numCluster,inertia)\n",
    "plt.plot(numCluster,inertia)\n",
    "plt.xlabel('numero grupos')\n",
    "plt.ylabel('Inercia')"
   ]
  },
  {
   "cell_type": "code",
   "execution_count": 330,
   "id": "33ecc76c-ffb5-4d80-ac27-39d7de9096e9",
   "metadata": {},
   "outputs": [
    {
     "data": {
      "text/html": [
       "<style>#sk-container-id-7 {color: black;background-color: white;}#sk-container-id-7 pre{padding: 0;}#sk-container-id-7 div.sk-toggleable {background-color: white;}#sk-container-id-7 label.sk-toggleable__label {cursor: pointer;display: block;width: 100%;margin-bottom: 0;padding: 0.3em;box-sizing: border-box;text-align: center;}#sk-container-id-7 label.sk-toggleable__label-arrow:before {content: \"▸\";float: left;margin-right: 0.25em;color: #696969;}#sk-container-id-7 label.sk-toggleable__label-arrow:hover:before {color: black;}#sk-container-id-7 div.sk-estimator:hover label.sk-toggleable__label-arrow:before {color: black;}#sk-container-id-7 div.sk-toggleable__content {max-height: 0;max-width: 0;overflow: hidden;text-align: left;background-color: #f0f8ff;}#sk-container-id-7 div.sk-toggleable__content pre {margin: 0.2em;color: black;border-radius: 0.25em;background-color: #f0f8ff;}#sk-container-id-7 input.sk-toggleable__control:checked~div.sk-toggleable__content {max-height: 200px;max-width: 100%;overflow: auto;}#sk-container-id-7 input.sk-toggleable__control:checked~label.sk-toggleable__label-arrow:before {content: \"▾\";}#sk-container-id-7 div.sk-estimator input.sk-toggleable__control:checked~label.sk-toggleable__label {background-color: #d4ebff;}#sk-container-id-7 div.sk-label input.sk-toggleable__control:checked~label.sk-toggleable__label {background-color: #d4ebff;}#sk-container-id-7 input.sk-hidden--visually {border: 0;clip: rect(1px 1px 1px 1px);clip: rect(1px, 1px, 1px, 1px);height: 1px;margin: -1px;overflow: hidden;padding: 0;position: absolute;width: 1px;}#sk-container-id-7 div.sk-estimator {font-family: monospace;background-color: #f0f8ff;border: 1px dotted black;border-radius: 0.25em;box-sizing: border-box;margin-bottom: 0.5em;}#sk-container-id-7 div.sk-estimator:hover {background-color: #d4ebff;}#sk-container-id-7 div.sk-parallel-item::after {content: \"\";width: 100%;border-bottom: 1px solid gray;flex-grow: 1;}#sk-container-id-7 div.sk-label:hover label.sk-toggleable__label {background-color: #d4ebff;}#sk-container-id-7 div.sk-serial::before {content: \"\";position: absolute;border-left: 1px solid gray;box-sizing: border-box;top: 0;bottom: 0;left: 50%;z-index: 0;}#sk-container-id-7 div.sk-serial {display: flex;flex-direction: column;align-items: center;background-color: white;padding-right: 0.2em;padding-left: 0.2em;position: relative;}#sk-container-id-7 div.sk-item {position: relative;z-index: 1;}#sk-container-id-7 div.sk-parallel {display: flex;align-items: stretch;justify-content: center;background-color: white;position: relative;}#sk-container-id-7 div.sk-item::before, #sk-container-id-7 div.sk-parallel-item::before {content: \"\";position: absolute;border-left: 1px solid gray;box-sizing: border-box;top: 0;bottom: 0;left: 50%;z-index: -1;}#sk-container-id-7 div.sk-parallel-item {display: flex;flex-direction: column;z-index: 1;position: relative;background-color: white;}#sk-container-id-7 div.sk-parallel-item:first-child::after {align-self: flex-end;width: 50%;}#sk-container-id-7 div.sk-parallel-item:last-child::after {align-self: flex-start;width: 50%;}#sk-container-id-7 div.sk-parallel-item:only-child::after {width: 0;}#sk-container-id-7 div.sk-dashed-wrapped {border: 1px dashed gray;margin: 0 0.4em 0.5em 0.4em;box-sizing: border-box;padding-bottom: 0.4em;background-color: white;}#sk-container-id-7 div.sk-label label {font-family: monospace;font-weight: bold;display: inline-block;line-height: 1.2em;}#sk-container-id-7 div.sk-label-container {text-align: center;}#sk-container-id-7 div.sk-container {/* jupyter's `normalize.less` sets `[hidden] { display: none; }` but bootstrap.min.css set `[hidden] { display: none !important; }` so we also need the `!important` here to be able to override the default hidden behavior on the sphinx rendered scikit-learn.org. See: https://github.com/scikit-learn/scikit-learn/issues/21755 */display: inline-block !important;position: relative;}#sk-container-id-7 div.sk-text-repr-fallback {display: none;}</style><div id=\"sk-container-id-7\" class=\"sk-top-container\"><div class=\"sk-text-repr-fallback\"><pre>KMeans(n_clusters=2)</pre><b>In a Jupyter environment, please rerun this cell to show the HTML representation or trust the notebook. <br />On GitHub, the HTML representation is unable to render, please try loading this page with nbviewer.org.</b></div><div class=\"sk-container\" hidden><div class=\"sk-item\"><div class=\"sk-estimator sk-toggleable\"><input class=\"sk-toggleable__control sk-hidden--visually\" id=\"sk-estimator-id-7\" type=\"checkbox\" checked><label for=\"sk-estimator-id-7\" class=\"sk-toggleable__label sk-toggleable__label-arrow\">KMeans</label><div class=\"sk-toggleable__content\"><pre>KMeans(n_clusters=2)</pre></div></div></div></div></div>"
      ],
      "text/plain": [
       "KMeans(n_clusters=2)"
      ]
     },
     "execution_count": 330,
     "metadata": {},
     "output_type": "execute_result"
    }
   ],
   "source": [
    "kmd=KMeans(n_clusters=2)\n",
    "kmd.fit(XN)"
   ]
  },
  {
   "cell_type": "code",
   "execution_count": 331,
   "id": "498fbd97-0340-484f-b21f-9c2d030d716e",
   "metadata": {},
   "outputs": [],
   "source": [
    "labels=kmd.labels_"
   ]
  },
  {
   "cell_type": "code",
   "execution_count": 332,
   "id": "c6faf8b8-1478-4947-9dca-788a41e841da",
   "metadata": {},
   "outputs": [],
   "source": [
    "etiquetas=set(labels)\n",
    "neti=len(etiquetas)\n",
    "XNLA= np.column_stack((XN, labels))\n",
    "nombreCol= ['K','p','c','a','d','q','u','label']\n",
    "ParaL=pd.DataFrame(XNLA, columns=nombreCol)"
   ]
  },
  {
   "cell_type": "code",
   "execution_count": 339,
   "id": "1f871f36-3558-425d-9499-7331857ccbb4",
   "metadata": {},
   "outputs": [
    {
     "data": {
      "image/png": "[encoded data removed]",
      "text/plain": [
       "<Figure size 1000x1000 with 1 Axes>"
      ]
     },
     "metadata": {},
     "output_type": "display_data"
    }
   ],
   "source": [
    "cmap=plt.cm.get_cmap('brg',neti)\n",
    "# formato de la figura\n",
    "plt.rcParams['figure.figsize'] = (10,10)\n",
    "for l in etiquetas:\n",
    "            plt.scatter(\n",
    "                #df['Time'][kmd.labels_==l],\n",
    "                #df['Magnitude'][kmd.labels_==l],\n",
    "                ParaL['p'][kmd.labels_==l],\n",
    "                ParaL['d'][kmd.labels_==l],\n",
    "                # los colores se eligen por iteracion del mapa de calor como el valor -1 no se toma en cmap se \n",
    "                # clasifica directamente como negro\n",
    "                c=[cmap(l)],\n",
    "                marker='ov'[l%2],\n",
    "                alpha=0.75,\n",
    "                s=100,\n",
    "                # se imprimen los clusters y -1 se clasifica diretametne como ruido\n",
    "                label=f'Grupo {l}')\n",
    "plt.xlabel('Inverso de la razón de sismicidad  p')\n",
    "plt.ylabel('Indice de no aleatoriedad espacial d')\n",
    "plt.legend(bbox_to_anchor=[1, 1])\n",
    "plt.savefig('KmeansPar.jpeg')\n",
    "plt.show()\n",
    "plt.rcParams['figure.figsize'] = plt.rcParamsDefault['figure.figsize']"
   ]
  },
  {
   "cell_type": "code",
   "execution_count": null,
   "id": "e9215a66-bcd5-43a8-82e4-1fecb137d76d",
   "metadata": {},
   "outputs": [],
   "source": []
  },
  {
   "cell_type": "code",
   "execution_count": null,
   "id": "0816a0b2-dd5b-4d98-bc0e-8f64df36a9c5",
   "metadata": {},
   "outputs": [],
   "source": []
  }
 ],
 "metadata": {
  "kernelspec": {
   "display_name": "Python 3 (ipykernel)",
   "language": "python",
   "name": "python3"
  },
  "language_info": {
   "codemirror_mode": {
    "name": "ipython",
    "version": 3
   },
   "file_extension": ".py",
   "mimetype": "text/x-python",
   "name": "python",
   "nbconvert_exporter": "python",
   "pygments_lexer": "ipython3",
   "version": "3.10.5"
  }
 },
 "nbformat": 4,
 "nbformat_minor": 5
}
