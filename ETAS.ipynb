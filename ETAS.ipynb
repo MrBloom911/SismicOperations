{
 "cells": [
  {
   "cell_type": "code",
   "execution_count": 69,
   "id": "403b33d5-331f-4ed3-a46d-dddf74825ba5",
   "metadata": {},
   "outputs": [],
   "source": [
    "def warn(*args, **kwargs):\n",
    "    pass\n",
    "import warnings\n",
    "warnings.warn= warn\n",
    "\n",
    "import string\n",
    "import pandas as pd\n",
    "import numpy as np\n",
    "import matplotlib.pyplot as plt\n",
    "import seaborn as sns\n",
    "import re\n",
    "from scipy import stats\n",
    "import statsmodels.api as sm \n",
    "from sklearn.model_selection import train_test_split\n",
    "from sklearn.manifold import MDS\n",
    "from sklearn.preprocessing import StandardScaler\n",
    "from sklearn.decomposition import PCA,KernelPCA\n",
    "from sklearn.compose import ColumnTransformer\n",
    "from sklearn.preprocessing import OneHotEncoder\n",
    "from sklearn.cluster import KMeans\n",
    "from datetime import datetime, timedelta\n",
    "import numpy as np\n",
    "from scipy.optimize import *\n",
    "import sympy as sp\n",
    "warnings.filterwarnings('ignore')\n",
    "\n",
    "sns.set_context('notebook')\n",
    "sns.set_style('white')"
   ]
  },
  {
   "cell_type": "code",
   "execution_count": 70,
   "id": "1ffac2d3-e037-45eb-9115-f540b65e9ae6",
   "metadata": {},
   "outputs": [
    {
     "name": "stdout",
     "output_type": "stream",
     "text": [
      "                      Time  Latitude  Longitude  Depth/Km  Magnitude\n",
      "0  2016-08-24 03:36:32.000   42.6983    13.2335       8.1        6.0\n",
      "1  2016-08-24 03:37:26.580   42.7123    13.2533       9.0        4.5\n",
      "2  2016-08-24 03:40:46.590   42.7647    13.1723       9.7        3.8\n",
      "3  2016-08-24 03:41:38.900   42.7803    13.1683       9.7        3.9\n",
      "4  2016-08-24 03:42:07.170   42.7798    13.1575       9.7        3.6\n"
     ]
    }
   ],
   "source": [
    "Filepath= r\"Dataset.csv\"\n",
    "df=pd.read_csv(Filepath)\n",
    "print(df.head())"
   ]
  },
  {
   "cell_type": "code",
   "execution_count": 71,
   "id": "76d7eaa9-e123-4f55-a0a6-46d9883a2e1b",
   "metadata": {},
   "outputs": [],
   "source": [
    "df['Time']=pd.to_datetime(df['Time'])"
   ]
  },
  {
   "cell_type": "code",
   "execution_count": 72,
   "id": "b4063cc7-0fd6-4d24-a444-c05f7e38ffb0",
   "metadata": {},
   "outputs": [],
   "source": [
    "dfD=df[df['Magnitude'] > 3.0 ]\n",
    "dfD.reset_index(drop=True, inplace=True)"
   ]
  },
  {
   "cell_type": "code",
   "execution_count": 73,
   "id": "716b7a2e-e288-4218-9eba-dd78a57d4c1e",
   "metadata": {},
   "outputs": [],
   "source": [
    "dfD\n",
    "window_size = '1W'\n",
    "groupedD = dfD.groupby(pd.Grouper(key='Time', freq=window_size))"
   ]
  },
  {
   "cell_type": "code",
   "execution_count": 74,
   "id": "33b07950-49ed-4e94-9074-e4ae407b0b1a",
   "metadata": {},
   "outputs": [],
   "source": [
    "Wind0='2016-08-28 00:00:00'\n",
    "Wind1='2016-09-04 00:00:00'\n",
    "Wind2='2016-09-11 00:00:00'\n",
    "Wind3='2016-09-18 00:00:00'\n",
    "Wind4='2016-09-25 00:00:00'\n",
    "Wind5='2016-10-02 00:00:00'\n",
    "Wind6='2016-10-09 00:00:00'\n",
    "Wind7='2016-10-16 00:00:00'\n",
    "Wind8='2016-10-23 00:00:00'\n",
    "Wind9='2016-10-30 00:00:00'\n",
    "Wind10='2016-11-06 00:00:00'\n",
    "Wind11='2016-11-13 00:00:00'\n",
    "Wind12='2016-11-20 00:00:00'\n",
    "Wind13='2016-11-27 00:00:00'\n",
    "Wind14='2016-12-04 00:00:00'"
   ]
  },
  {
   "cell_type": "code",
   "execution_count": 75,
   "id": "1ded52d4-f163-4339-beb2-276da5e9d30d",
   "metadata": {},
   "outputs": [],
   "source": [
    "Ventana1= groupedD.get_group(Wind0).to_numpy()\n",
    "Ventana2= groupedD.get_group(Wind1).to_numpy()\n",
    "Ventana3= groupedD.get_group(Wind2).to_numpy()\n",
    "Ventana4= groupedD.get_group(Wind3).to_numpy()\n",
    "Ventana5= groupedD.get_group(Wind4).to_numpy()\n",
    "Ventana6= groupedD.get_group(Wind5).to_numpy()\n",
    "Ventana7= groupedD.get_group(Wind6).to_numpy()\n",
    "Ventana8= groupedD.get_group(Wind7).to_numpy()\n",
    "#Ventana9= groupedD.get_group(Wind8)\n",
    "Ventana10= groupedD.get_group(Wind9).to_numpy()\n",
    "Ventana11= groupedD.get_group(Wind10).to_numpy()\n",
    "Ventana12= groupedD.get_group(Wind11).to_numpy()\n",
    "Ventana13= groupedD.get_group(Wind12).to_numpy()\n",
    "Ventana14= groupedD.get_group(Wind13).to_numpy()\n",
    "Ventana15= groupedD.get_group(Wind14).to_numpy()"
   ]
  },
  {
   "cell_type": "code",
   "execution_count": 76,
   "id": "d0937fed-e567-47cb-a49f-243890e3d1b5",
   "metadata": {},
   "outputs": [],
   "source": [
    "Columnas=['Time','Latitude','Longitude','Depth','Magnitude']\n",
    "dfV1=pd.DataFrame(Ventana1, columns=Columnas)\n",
    "dfV2=pd.DataFrame(Ventana2, columns=Columnas)\n",
    "dfV3=pd.DataFrame(Ventana3, columns=Columnas)\n",
    "dfV4=pd.DataFrame(Ventana4, columns=Columnas)\n",
    "dfV5=pd.DataFrame(Ventana5, columns=Columnas)\n",
    "dfV6=pd.DataFrame(Ventana6, columns=Columnas)\n",
    "dfV7=pd.DataFrame(Ventana7, columns=Columnas)\n",
    "dfV8=pd.DataFrame(Ventana8, columns=Columnas)\n",
    "dfV10=pd.DataFrame(Ventana10, columns=Columnas)\n",
    "dfV11=pd.DataFrame(Ventana11, columns=Columnas)\n",
    "dfV12=pd.DataFrame(Ventana12, columns=Columnas)\n",
    "dfV13=pd.DataFrame(Ventana13, columns=Columnas)\n",
    "dfV14=pd.DataFrame(Ventana14, columns=Columnas)\n",
    "dfV15=pd.DataFrame(Ventana15, columns=Columnas)"
   ]
  },
  {
   "cell_type": "code",
   "execution_count": 505,
   "id": "3ab0ce4a-100c-4da0-9b41-feade6ea90ea",
   "metadata": {},
   "outputs": [],
   "source": [
    "def VECTS(df):\n",
    "    #X = df['Latitude'].values.astype(float)\n",
    "    #Y = df['Longitude'].values.astype(float)\n",
    "    DT=df['Time'].iloc[len(df)-1]-df['Time'].iloc[0]\n",
    "    DTD= DT.total_seconds() / (60*60*24)\n",
    "    T=np.linspace(1, int(DTD) ,num=len(df))\n",
    "    xi = dfV1['Latitude'].min()\n",
    "    xf = dfV1['Latitude'].max()\n",
    "    yi = dfV1['Longitude'].min()\n",
    "    yf = dfV1['Longitude'].max()\n",
    "    ti = min(T)\n",
    "    tf = max(T)\n",
    "    Mc=3.0\n",
    "    Mm=max(df['Magnitude'])\n",
    "    X = np.zeros(len(df))\n",
    "    Y = np.zeros(len(df))\n",
    "    M = np.zeros(len(df))\n",
    "    ES = np.zeros(len(df))\n",
    "    for i in df.index:\n",
    "        M[i]=df['Magnitude'].iloc[i]-Mc\n",
    "        X[i]=df['Latitude'].iloc[len(df)-1]-df['Latitude'].iloc[i]\n",
    "        Y[i]=df['Longitude'].iloc[len(df)-1]-df['Longitude'].iloc[i]\n",
    "        ES[i]=(np.power(X[i],2)+np.power(Y[i],2))\n",
    "    DTD= DT.total_seconds() / (60*60*24)\n",
    "    T=np.linspace(1, int(DTD) ,num=len(df))\n",
    "    XO=sp.sympify(X)\n",
    "    YO=sp.sympify(Y)\n",
    "    ESO=sp.sympify(ES)\n",
    "    MO=sp.sympify(M)\n",
    "    TO=sp.sympify(T)\n",
    "    return XO,YO,LO,MO,TO,xi,xf,yi,yf,ti,tf\n",
    "\n",
    "def EQETAS(X,Y,L,T,M):\n",
    "    FA=[]\n",
    "    x,y,k,p,c,t,a,m,d,q,u = symbols ('x y k p c t a m d q u')\n",
    "    f1=u+k*(sp.Pow((t)+c,-p))*sp.Pow(( (x**2 + y**2) / exp(m*a) )+ d ,-q)\n",
    "    for i in range(N):\n",
    "        a=f1.subs(x,X[i]).subs(y,Y[i]).subs(t,T[i]).subs(m,M[i])\n",
    "        Leq=sp.log(a)\n",
    "        FA.append(Leq)\n",
    "    Eq=sum(FA)\n",
    "    return Eq\n",
    "\n",
    "def IEQ(xi,xf,yi,yf,ti,tf):\n",
    "    x,y,k,p,c,t,a,m,d,q,u = symbols ('x y k p c t a m d q u')\n",
    "    f1=u+k*(sp.Pow((t)+c,-p))*sp.Pow(( (x**2 + y**2) / exp(m*a) )+ d ,-q)\n",
    "    f2= sp.integrate(f1,(x,xi,xf),(y,yi,yf),(t,ti,tf)).doit()\n",
    "    return f2"
   ]
  },
  {
   "cell_type": "code",
   "execution_count": 506,
   "id": "96c439c6-22e8-47e0-ad78-9e12a45ed826",
   "metadata": {},
   "outputs": [],
   "source": [
    "X,Y,L,M,T,xi,xf,yi,yf,ti,tf=VECTS(dfV1)"
   ]
  },
  {
   "cell_type": "code",
   "execution_count": 507,
   "id": "d5710e19-2678-452b-b318-478e79735f3d",
   "metadata": {},
   "outputs": [],
   "source": [
    "P=[1,1,1,1,1,1,1]\n",
    "F=EQETAS(X,Y,L,M,T)"
   ]
  },
  {
   "cell_type": "code",
   "execution_count": 508,
   "id": "e18a1703-4295-4b22-87c5-1766746403a1",
   "metadata": {},
   "outputs": [],
   "source": [
    "T=IEQ(xi,xf,yi,yf,ti,tf)"
   ]
  },
  {
   "cell_type": "code",
   "execution_count": 512,
   "id": "6cfe606a-bf1b-4136-b701-7713d52d528b",
   "metadata": {},
   "outputs": [],
   "source": [
    "AV=sp.Integral(T,(y,yi,yf)).doit()"
   ]
  },
  {
   "cell_type": "code",
   "execution_count": 515,
   "id": "00ff3996-4e20-4d03-be24-39b40e209245",
   "metadata": {},
   "outputs": [],
   "source": [
    "TA=simplify(T)"
   ]
  },
  {
   "cell_type": "code",
   "execution_count": 517,
   "id": "b3f5f178-e543-4952-b17a-22fdcc241ce4",
   "metadata": {},
   "outputs": [],
   "source": [
    "TAV=sp.Integral(TA,(y,yi,yf)).doit()"
   ]
  },
  {
   "cell_type": "code",
   "execution_count": 518,
   "id": "6941509d-e69e-490c-8d01-f130a13c33d1",
   "metadata": {},
   "outputs": [
    {
     "data": {
      "text/latex": [
       "$\\displaystyle \\begin{cases} - \\frac{14.8171421499999 k \\left(c + 1.0\\right)^{1 - p} \\int\\limits_{13.0405}^{13.391} {{}_{2}F_{1}\\left(\\begin{matrix} \\frac{1}{2}, q \\\\ \\frac{3}{2} \\end{matrix}\\middle| {\\frac{1787.11644049 e^{i \\pi} e^{- a m}}{\\operatorname{polar\\_lift}{\\left(d + y^{2} e^{- a m} \\right)}}} \\right)} \\operatorname{polar\\_lift}^{- q}{\\left(d + y^{2} e^{- a m} \\right)}\\, dy}{1.0 p - 1.0} + \\frac{15.0189951 k \\left(c + 1.0\\right)^{1 - p} \\int\\limits_{13.0405}^{13.391} {{}_{2}F_{1}\\left(\\begin{matrix} \\frac{1}{2}, q \\\\ \\frac{3}{2} \\end{matrix}\\middle| {\\frac{1836.13964004 e^{i \\pi} e^{- a m}}{\\operatorname{polar\\_lift}{\\left(d + y^{2} e^{- a m} \\right)}}} \\right)} \\operatorname{polar\\_lift}^{- q}{\\left(d + y^{2} e^{- a m} \\right)}\\, dy}{1.0 p - 1.0} + \\frac{14.8171421499999 k \\left(c + 4.0\\right)^{1 - p} \\int\\limits_{13.0405}^{13.391} {{}_{2}F_{1}\\left(\\begin{matrix} \\frac{1}{2}, q \\\\ \\frac{3}{2} \\end{matrix}\\middle| {\\frac{1787.11644049 e^{i \\pi} e^{- a m}}{\\operatorname{polar\\_lift}{\\left(d + y^{2} e^{- a m} \\right)}}} \\right)} \\operatorname{polar\\_lift}^{- q}{\\left(d + y^{2} e^{- a m} \\right)}\\, dy}{1.0 p - 1.0} - \\frac{15.0189951 k \\left(c + 4.0\\right)^{1 - p} \\int\\limits_{13.0405}^{13.391} {{}_{2}F_{1}\\left(\\begin{matrix} \\frac{1}{2}, q \\\\ \\frac{3}{2} \\end{matrix}\\middle| {\\frac{1836.13964004 e^{i \\pi} e^{- a m}}{\\operatorname{polar\\_lift}{\\left(d + y^{2} e^{- a m} \\right)}}} \\right)} \\operatorname{polar\\_lift}^{- q}{\\left(d + y^{2} e^{- a m} \\right)}\\, dy}{1.0 p - 1.0} + \\frac{0.212248376925 p u}{1.0 p - 1.0} - \\frac{0.212248376925 u}{1.0 p - 1.0} & \\text{for}\\: \\left(p > -\\infty \\wedge p < 1\\right) \\vee \\left(p > 1 \\wedge p < \\infty\\right) \\\\14.8171421499999 k \\log{\\left(c + 1.0 \\right)} \\int\\limits_{13.0405}^{13.391} {{}_{2}F_{1}\\left(\\begin{matrix} \\frac{1}{2}, q \\\\ \\frac{3}{2} \\end{matrix}\\middle| {\\frac{1787.11644049 e^{i \\pi} e^{- a m}}{\\operatorname{polar\\_lift}{\\left(d + y^{2} e^{- a m} \\right)}}} \\right)} \\operatorname{polar\\_lift}^{- q}{\\left(d + y^{2} e^{- a m} \\right)}\\, dy - 15.0189951 k \\log{\\left(c + 1.0 \\right)} \\int\\limits_{13.0405}^{13.391} {{}_{2}F_{1}\\left(\\begin{matrix} \\frac{1}{2}, q \\\\ \\frac{3}{2} \\end{matrix}\\middle| {\\frac{1836.13964004 e^{i \\pi} e^{- a m}}{\\operatorname{polar\\_lift}{\\left(d + y^{2} e^{- a m} \\right)}}} \\right)} \\operatorname{polar\\_lift}^{- q}{\\left(d + y^{2} e^{- a m} \\right)}\\, dy - 14.8171421499999 k \\log{\\left(c + 4.0 \\right)} \\int\\limits_{13.0405}^{13.391} {{}_{2}F_{1}\\left(\\begin{matrix} \\frac{1}{2}, q \\\\ \\frac{3}{2} \\end{matrix}\\middle| {\\frac{1787.11644049 e^{i \\pi} e^{- a m}}{\\operatorname{polar\\_lift}{\\left(d + y^{2} e^{- a m} \\right)}}} \\right)} \\operatorname{polar\\_lift}^{- q}{\\left(d + y^{2} e^{- a m} \\right)}\\, dy + 15.0189951 k \\log{\\left(c + 4.0 \\right)} \\int\\limits_{13.0405}^{13.391} {{}_{2}F_{1}\\left(\\begin{matrix} \\frac{1}{2}, q \\\\ \\frac{3}{2} \\end{matrix}\\middle| {\\frac{1836.13964004 e^{i \\pi} e^{- a m}}{\\operatorname{polar\\_lift}{\\left(d + y^{2} e^{- a m} \\right)}}} \\right)} \\operatorname{polar\\_lift}^{- q}{\\left(d + y^{2} e^{- a m} \\right)}\\, dy + 0.212248376925 u & \\text{otherwise} \\end{cases}$"
      ],
      "text/plain": [
       "Piecewise((-14.8171421499999*k*(c + 1.0)**(1 - p)*Integral(hyper((1/2, q), (3/2,), 1787.11644049*exp_polar(I*pi)*exp(-a*m)/polar_lift(d + y**2*exp(-a*m)))/polar_lift(d + y**2*exp(-a*m))**q, (y, 13.0405, 13.391))/(1.0*p - 1.0) + 15.0189951*k*(c + 1.0)**(1 - p)*Integral(hyper((1/2, q), (3/2,), 1836.13964004*exp_polar(I*pi)*exp(-a*m)/polar_lift(d + y**2*exp(-a*m)))/polar_lift(d + y**2*exp(-a*m))**q, (y, 13.0405, 13.391))/(1.0*p - 1.0) + 14.8171421499999*k*(c + 4.0)**(1 - p)*Integral(hyper((1/2, q), (3/2,), 1787.11644049*exp_polar(I*pi)*exp(-a*m)/polar_lift(d + y**2*exp(-a*m)))/polar_lift(d + y**2*exp(-a*m))**q, (y, 13.0405, 13.391))/(1.0*p - 1.0) - 15.0189951*k*(c + 4.0)**(1 - p)*Integral(hyper((1/2, q), (3/2,), 1836.13964004*exp_polar(I*pi)*exp(-a*m)/polar_lift(d + y**2*exp(-a*m)))/polar_lift(d + y**2*exp(-a*m))**q, (y, 13.0405, 13.391))/(1.0*p - 1.0) + 0.212248376925*p*u/(1.0*p - 1.0) - 0.212248376925*u/(1.0*p - 1.0), ((p > -oo) & (p < 1)) | ((p > 1) & (p < oo))), (14.8171421499999*k*log(c + 1.0)*Integral(hyper((1/2, q), (3/2,), 1787.11644049*exp_polar(I*pi)*exp(-a*m)/polar_lift(d + y**2*exp(-a*m)))/polar_lift(d + y**2*exp(-a*m))**q, (y, 13.0405, 13.391)) - 15.0189951*k*log(c + 1.0)*Integral(hyper((1/2, q), (3/2,), 1836.13964004*exp_polar(I*pi)*exp(-a*m)/polar_lift(d + y**2*exp(-a*m)))/polar_lift(d + y**2*exp(-a*m))**q, (y, 13.0405, 13.391)) - 14.8171421499999*k*log(c + 4.0)*Integral(hyper((1/2, q), (3/2,), 1787.11644049*exp_polar(I*pi)*exp(-a*m)/polar_lift(d + y**2*exp(-a*m)))/polar_lift(d + y**2*exp(-a*m))**q, (y, 13.0405, 13.391)) + 15.0189951*k*log(c + 4.0)*Integral(hyper((1/2, q), (3/2,), 1836.13964004*exp_polar(I*pi)*exp(-a*m)/polar_lift(d + y**2*exp(-a*m)))/polar_lift(d + y**2*exp(-a*m))**q, (y, 13.0405, 13.391)) + 0.212248376925*u, True))"
      ]
     },
     "execution_count": 518,
     "metadata": {},
     "output_type": "execute_result"
    }
   ],
   "source": [
    "TAV"
   ]
  },
  {
   "cell_type": "code",
   "execution_count": null,
   "id": "187ba5e8-7b3b-4ef3-b4fc-46097f2a2c9f",
   "metadata": {},
   "outputs": [],
   "source": []
  }
 ],
 "metadata": {
  "kernelspec": {
   "display_name": "Python 3 (ipykernel)",
   "language": "python",
   "name": "python3"
  },
  "language_info": {
   "codemirror_mode": {
    "name": "ipython",
    "version": 3
   },
   "file_extension": ".py",
   "mimetype": "text/x-python",
   "name": "python",
   "nbconvert_exporter": "python",
   "pygments_lexer": "ipython3",
   "version": "3.10.5"
  }
 },
 "nbformat": 4,
 "nbformat_minor": 5
}
