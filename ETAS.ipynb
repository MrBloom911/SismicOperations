{
 "cells": [
  {
   "cell_type": "code",
   "execution_count": 256,
   "id": "403b33d5-331f-4ed3-a46d-dddf74825ba5",
   "metadata": {},
   "outputs": [],
   "source": [
    "def warn(*args, **kwargs):\n",
    "    pass\n",
    "import warnings\n",
    "warnings.warn= warn\n",
    "\n",
    "import string\n",
    "import pandas as pd\n",
    "import numpy as np\n",
    "import matplotlib.pyplot as plt\n",
    "import seaborn as sns\n",
    "import re\n",
    "from scipy import stats\n",
    "import statsmodels.api as sm \n",
    "from sklearn.model_selection import train_test_split\n",
    "from sklearn.manifold import MDS\n",
    "from sklearn.preprocessing import StandardScaler\n",
    "from sklearn.decomposition import PCA,KernelPCA\n",
    "from sklearn.compose import ColumnTransformer\n",
    "from sklearn.preprocessing import OneHotEncoder\n",
    "from sklearn.cluster import KMeans\n",
    "from datetime import datetime, timedelta\n",
    "import numpy as np\n",
    "from scipy.optimize import *\n",
    "import sympy as sp\n",
    "from sympy import *\n",
    "import scipy.integrate as spi\n",
    "from scipy import *\n",
    "warnings.filterwarnings('ignore')\n",
    "\n",
    "sns.set_context('notebook')\n",
    "sns.set_style('white')"
   ]
  },
  {
   "cell_type": "code",
   "execution_count": 238,
   "id": "1ffac2d3-e037-45eb-9115-f540b65e9ae6",
   "metadata": {},
   "outputs": [
    {
     "name": "stdout",
     "output_type": "stream",
     "text": [
      "                      Time  Latitude  Longitude  Depth/Km  Magnitude\n",
      "0  2016-08-24 03:36:32.000   42.6983    13.2335       8.1        6.0\n",
      "1  2016-08-24 03:37:26.580   42.7123    13.2533       9.0        4.5\n",
      "2  2016-08-24 03:40:46.590   42.7647    13.1723       9.7        3.8\n",
      "3  2016-08-24 03:41:38.900   42.7803    13.1683       9.7        3.9\n",
      "4  2016-08-24 03:42:07.170   42.7798    13.1575       9.7        3.6\n"
     ]
    }
   ],
   "source": [
    "Filepath= r\"Dataset.csv\"\n",
    "df=pd.read_csv(Filepath)\n",
    "print(df.head())"
   ]
  },
  {
   "cell_type": "code",
   "execution_count": 239,
   "id": "76d7eaa9-e123-4f55-a0a6-46d9883a2e1b",
   "metadata": {},
   "outputs": [],
   "source": [
    "df['Time']=pd.to_datetime(df['Time'])"
   ]
  },
  {
   "cell_type": "code",
   "execution_count": 240,
   "id": "b4063cc7-0fd6-4d24-a444-c05f7e38ffb0",
   "metadata": {},
   "outputs": [],
   "source": [
    "dfD=df[df['Magnitude'] > 3.0 ]\n",
    "dfD.reset_index(drop=True, inplace=True)"
   ]
  },
  {
   "cell_type": "code",
   "execution_count": 241,
   "id": "716b7a2e-e288-4218-9eba-dd78a57d4c1e",
   "metadata": {},
   "outputs": [],
   "source": [
    "dfD\n",
    "window_size = '1W'\n",
    "groupedD = dfD.groupby(pd.Grouper(key='Time', freq=window_size))"
   ]
  },
  {
   "cell_type": "code",
   "execution_count": 242,
   "id": "33b07950-49ed-4e94-9074-e4ae407b0b1a",
   "metadata": {},
   "outputs": [],
   "source": [
    "Wind0='2016-08-28 00:00:00'\n",
    "Wind1='2016-09-04 00:00:00'\n",
    "Wind2='2016-09-11 00:00:00'\n",
    "Wind3='2016-09-18 00:00:00'\n",
    "Wind4='2016-09-25 00:00:00'\n",
    "Wind5='2016-10-02 00:00:00'\n",
    "Wind6='2016-10-09 00:00:00'\n",
    "Wind7='2016-10-16 00:00:00'\n",
    "Wind8='2016-10-23 00:00:00'\n",
    "Wind9='2016-10-30 00:00:00'\n",
    "Wind10='2016-11-06 00:00:00'\n",
    "Wind11='2016-11-13 00:00:00'\n",
    "Wind12='2016-11-20 00:00:00'\n",
    "Wind13='2016-11-27 00:00:00'\n",
    "Wind14='2016-12-04 00:00:00'"
   ]
  },
  {
   "cell_type": "code",
   "execution_count": 243,
   "id": "1ded52d4-f163-4339-beb2-276da5e9d30d",
   "metadata": {},
   "outputs": [],
   "source": [
    "Ventana1= groupedD.get_group(Wind0).to_numpy()\n",
    "Ventana2= groupedD.get_group(Wind1).to_numpy()\n",
    "Ventana3= groupedD.get_group(Wind2).to_numpy()\n",
    "Ventana4= groupedD.get_group(Wind3).to_numpy()\n",
    "Ventana5= groupedD.get_group(Wind4).to_numpy()\n",
    "Ventana6= groupedD.get_group(Wind5).to_numpy()\n",
    "Ventana7= groupedD.get_group(Wind6).to_numpy()\n",
    "Ventana8= groupedD.get_group(Wind7).to_numpy()\n",
    "#Ventana9= groupedD.get_group(Wind8)\n",
    "Ventana10= groupedD.get_group(Wind9).to_numpy()\n",
    "Ventana11= groupedD.get_group(Wind10).to_numpy()\n",
    "Ventana12= groupedD.get_group(Wind11).to_numpy()\n",
    "Ventana13= groupedD.get_group(Wind12).to_numpy()\n",
    "Ventana14= groupedD.get_group(Wind13).to_numpy()\n",
    "Ventana15= groupedD.get_group(Wind14).to_numpy()"
   ]
  },
  {
   "cell_type": "code",
   "execution_count": 244,
   "id": "d0937fed-e567-47cb-a49f-243890e3d1b5",
   "metadata": {},
   "outputs": [],
   "source": [
    "Columnas=['Time','Latitude','Longitude','Depth','Magnitude']\n",
    "dfV1=pd.DataFrame(Ventana1, columns=Columnas)\n",
    "dfV2=pd.DataFrame(Ventana2, columns=Columnas)\n",
    "dfV3=pd.DataFrame(Ventana3, columns=Columnas)\n",
    "dfV4=pd.DataFrame(Ventana4, columns=Columnas)\n",
    "dfV5=pd.DataFrame(Ventana5, columns=Columnas)\n",
    "dfV6=pd.DataFrame(Ventana6, columns=Columnas)\n",
    "dfV7=pd.DataFrame(Ventana7, columns=Columnas)\n",
    "dfV8=pd.DataFrame(Ventana8, columns=Columnas)\n",
    "dfV10=pd.DataFrame(Ventana10, columns=Columnas)\n",
    "dfV11=pd.DataFrame(Ventana11, columns=Columnas)\n",
    "dfV12=pd.DataFrame(Ventana12, columns=Columnas)\n",
    "dfV13=pd.DataFrame(Ventana13, columns=Columnas)\n",
    "dfV14=pd.DataFrame(Ventana14, columns=Columnas)\n",
    "dfV15=pd.DataFrame(Ventana15, columns=Columnas)"
   ]
  },
  {
   "cell_type": "code",
   "execution_count": 353,
   "id": "3ab0ce4a-100c-4da0-9b41-feade6ea90ea",
   "metadata": {},
   "outputs": [],
   "source": [
    "def VECTS(df):\n",
    "    #X = df['Latitude'].values.astype(float)\n",
    "    #Y = df['Longitude'].values.astype(float)\n",
    "    DT=df['Time'].iloc[len(df)-1]-df['Time'].iloc[0]\n",
    "    DTD= DT.total_seconds() / (60*60*24)\n",
    "    T=np.linspace(1, int(DTD) ,num=len(df))\n",
    "    xi = dfV1['Latitude'].min()\n",
    "    xf = dfV1['Latitude'].max()\n",
    "    yi = dfV1['Longitude'].min()\n",
    "    yf = dfV1['Longitude'].max()\n",
    "    ti = min(T)\n",
    "    tf = max(T)\n",
    "    Mc=3.0\n",
    "    Mm=max(df['Magnitude'])\n",
    "    mp=Mm-Mc\n",
    "    X = np.zeros(len(df))\n",
    "    Y = np.zeros(len(df))\n",
    "    M = np.zeros(len(df))\n",
    "    L = np.zeros(len(df))\n",
    "    for i in df.index:\n",
    "        M[i]=df['Magnitude'].iloc[i]-Mc\n",
    "        X[i]=df['Latitude'].iloc[len(df)-1]-df['Latitude'].iloc[i]\n",
    "        Y[i]=df['Longitude'].iloc[len(df)-1]-df['Longitude'].iloc[i]\n",
    "        L[i]=(np.power(X[i],2)+np.power(Y[i],2))\n",
    "    DTD= DT.total_seconds() / (60*60*24)\n",
    "    T=np.linspace(1, int(DTD) ,num=len(df))\n",
    "    return X,Y,L,M,T,xi,xf,yi,yf,ti,tf,mp\n",
    "\n",
    "def EQETAS(X,Y,L,M,T):\n",
    "    XO=sp.sympify(X)\n",
    "    YO=sp.sympify(Y)\n",
    "    LO=sp.sympify(L)\n",
    "    MO=sp.sympify(M)\n",
    "    TO=sp.sympify(T)\n",
    "    FA=[]\n",
    "    N=X.size\n",
    "    x,y,k,p,c,t,a,m,d,q,u = symbols ('x, y, k, p, c, t, a, m, d, q, u')\n",
    "    f1=u+k*(sp.Pow((t)+c,-p))*sp.Pow(( (x**2 + y**2) / exp(m*a) )+ d ,-q)\n",
    "    for i in range(N):\n",
    "        A=sp.simplify(f1.subs(x,XO[i]).subs(y,YO[i]).subs(t,TO[i]).subs(m,MO[i])).evalf()\n",
    "        Leq=sp.log(A)\n",
    "        FA.append(Leq)\n",
    "    Eq=sum(FA)\n",
    "    return Eq\n",
    "\n",
    "def IEQ(xi,xf,yi,yf,ti,tf,mp):\n",
    "    u1=0.000335\n",
    "    k1=0.00016700000000000002\n",
    "    c1=0.0051400000000000005\n",
    "    a1=0.961\n",
    "    d1=0.00034100000000000005\n",
    "    q1=1.405\n",
    "    p1=0.961\n",
    "    x,y,k,p,c,t,a,m,d,q,u = symbols('x, y, k, p, c, t, a, m, d, q, u')\n",
    "    f1=u+k*(sp.Pow((t)+c,-p))*sp.Pow(( (x**2 + y**2) / exp(m*a) )+ d ,-q)\n",
    "    #f2= sp.integrate(f1,(x,xi,xf),(y,yi,yf),(t,ti,tf)).doit()\n",
    "    f2=f1.subs(u,u1).subs(k,k1).subs(c,c1).subs(a,a1).subs(d,d1).subs(q,q1).subs(p,p1).subs(m,mp)\n",
    "    f2_np = lambdify((x, y, t), f2, modules=['scipy'])\n",
    "    resultado, error=spi.nquad(f2_np, [(xi, xf), (yi, yf), (ti, tf)])\n",
    "    #resultado=\n",
    "    #P=integrate(f2,(x,xi,xf),(y,yi,yf),(t,ti,tf)).doit()\n",
    "    return resultado\n",
    "\n",
    "def ETSA(X,Y,L,M,T,P,r):\n",
    "    k,p,c,a,d,q,u = symbols ('k, p, c, a, d, q, u')\n",
    "    k1=P[0]\n",
    "    p1=P[1]\n",
    "    c1=P[2]\n",
    "    a1=P[3]\n",
    "    d1=P[4]\n",
    "    q1=P[5]\n",
    "    u1=P[6]\n",
    "    H=EQETAS(X,Y,L,M,T)\n",
    "    LH=(-1)*(H-r)\n",
    "    LLH=lambdify((k,p,c,a,d,q,u), LH, modules=['scipy'])\n",
    "    return LLH(k1,p1,c1,a1,d1,q1,u1)"
   ]
  },
  {
   "cell_type": "code",
   "execution_count": 363,
   "id": "96c439c6-22e8-47e0-ad78-9e12a45ed826",
   "metadata": {},
   "outputs": [],
   "source": [
    "X,Y,L,M,T,xi,xf,yi,yf,ti,tf,mp=VECTS(dfV2)\n",
    "P=[1,1,1,1,1,1,1]"
   ]
  },
  {
   "cell_type": "code",
   "execution_count": 364,
   "id": "d5710e19-2678-452b-b318-478e79735f3d",
   "metadata": {},
   "outputs": [],
   "source": [
    "F=EQETAS(X,Y,L,M,T)\n"
   ]
  },
  {
   "cell_type": "code",
   "execution_count": 365,
   "id": "e18a1703-4295-4b22-87c5-1766746403a1",
   "metadata": {},
   "outputs": [],
   "source": [
    "\n",
    "Al=IEQ(xi,xf,yi,yf,ti,tf,mp)\n",
    "#parametros de U  u, c,"
   ]
  },
  {
   "cell_type": "code",
   "execution_count": 366,
   "id": "3e6015b8-a7cf-49cf-87a6-8270f5b8371e",
   "metadata": {},
   "outputs": [],
   "source": [
    "def constraint1(P):\n",
    "    return P[1]\n",
    "\n",
    "def constraint2(P):\n",
    "    return P[2]"
   ]
  },
  {
   "cell_type": "code",
   "execution_count": 367,
   "id": "6cfe606a-bf1b-4136-b701-7713d52d528b",
   "metadata": {},
   "outputs": [],
   "source": [
    "#ALN=lambdify((x,y,t),Al,'numpy')\n",
    "#minimize(ETSA, P, args=(X,Y,L,M,T,Al))\n",
    "cons = (({'type':'ineq','fun': constraint1},\n",
    "         {'type':'ineq','fun': constraint2}))\n",
    "ar1=minimize(ETSA, P, args=(X,Y,L,M,T,Al),constraints=cons)"
   ]
  },
  {
   "cell_type": "code",
   "execution_count": 368,
   "id": "00ff3996-4e20-4d03-be24-39b40e209245",
   "metadata": {},
   "outputs": [
    {
     "data": {
      "text/plain": [
       "     fun: -5.5995874264111425\n",
       "     jac: array([-2.05218792e-04,  0.00000000e+00,  2.36868858e-04, -1.45077705e-04,\n",
       "       -1.88112259e-04, -7.15255737e-06, -3.50475311e-05])\n",
       " message: 'Optimization terminated successfully'\n",
       "    nfev: 104\n",
       "     nit: 13\n",
       "    njev: 13\n",
       "  status: 0\n",
       " success: True\n",
       "       x: array([-1.00907376e-03,  0.00000000e+00,  1.11955276e-03, -6.63710130e-04,\n",
       "       -1.01714512e-03, -2.95314817e-05, -1.40376072e-04])"
      ]
     },
     "execution_count": 368,
     "metadata": {},
     "output_type": "execute_result"
    }
   ],
   "source": [
    "ar1"
   ]
  },
  {
   "cell_type": "code",
   "execution_count": 263,
   "id": "b3f5f178-e543-4952-b17a-22fdcc241ce4",
   "metadata": {},
   "outputs": [],
   "source": [
    "#TAV=sp.Integral(TA,(y,yi,yf)).doit()"
   ]
  },
  {
   "cell_type": "code",
   "execution_count": 264,
   "id": "6941509d-e69e-490c-8d01-f130a13c33d1",
   "metadata": {},
   "outputs": [],
   "source": [
    "#TAV"
   ]
  },
  {
   "cell_type": "code",
   "execution_count": 362,
   "id": "187ba5e8-7b3b-4ef3-b4fc-46097f2a2c9f",
   "metadata": {},
   "outputs": [],
   "source": [
    "ps1=[ 1.06416629e-04,  7.23532699e-04,  0.00000000e+00,  2.59892357e-05,\n",
    "        1.65348183e-04,  5.83631350e-05, -5.39498838e-06 ]\n",
    "ps2=[-1.00907376e-03,  0.00000000e+00,  1.11955276e-03, -6.63710130e-04,\n",
    "       -1.01714512e-03, -2.95314817e-05, -1.40376072e-04]\n"
   ]
  },
  {
   "cell_type": "code",
   "execution_count": null,
   "id": "2716d0f3-9381-4463-be4b-22ffd7295a81",
   "metadata": {},
   "outputs": [],
   "source": []
  }
 ],
 "metadata": {
  "kernelspec": {
   "display_name": "Python 3 (ipykernel)",
   "language": "python",
   "name": "python3"
  },
  "language_info": {
   "codemirror_mode": {
    "name": "ipython",
    "version": 3
   },
   "file_extension": ".py",
   "mimetype": "text/x-python",
   "name": "python",
   "nbconvert_exporter": "python",
   "pygments_lexer": "ipython3",
   "version": "3.10.5"
  }
 },
 "nbformat": 4,
 "nbformat_minor": 5
}
