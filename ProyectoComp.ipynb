{
 "cells": [
  {
   "cell_type": "code",
   "execution_count": 1,
   "id": "cff67c08-5050-47f2-99aa-d53f5fbb65ac",
   "metadata": {},
   "outputs": [],
   "source": [
    "import pandas as pd\n",
    "import numpy as np\n",
    "import matplotlib.pyplot as plt\n",
    "import seaborn as sns\n",
    "import re\n",
    "from scipy import stats\n",
    "import statsmodels.api as sm"
   ]
  },
  {
   "cell_type": "code",
   "execution_count": 4,
   "id": "63934a0f-8014-4604-8478-bd45ce012a1f",
   "metadata": {},
   "outputs": [
    {
     "name": "stdout",
     "output_type": "stream",
     "text": [
      "                         Time  Latitude  Longitude  Depth/Km  Magnitude\n",
      "0     2016-08-24 03:36:32.000   42.6983    13.2335       8.1        6.0\n",
      "1     2016-08-24 03:37:26.580   42.7123    13.2533       9.0        4.5\n",
      "2     2016-08-24 03:40:46.590   42.7647    13.1723       9.7        3.8\n",
      "3     2016-08-24 03:41:38.900   42.7803    13.1683       9.7        3.9\n",
      "4     2016-08-24 03:42:07.170   42.7798    13.1575       9.7        3.6\n",
      "...                       ...       ...        ...       ...        ...\n",
      "8081  2016-11-30 18:39:27.600   42.8903    13.0197      10.7        2.0\n",
      "8082  2016-11-30 18:43:14.850   42.9443    13.2003       8.6        2.6\n",
      "8083  2016-11-30 20:18:27.550   43.0092    13.1288       8.0        2.2\n",
      "8084  2016-11-30 20:45:11.780   43.0197    13.1017       9.3        2.7\n",
      "8085  2016-11-30 20:54:35.890   42.9935    13.0753       9.5        2.3\n",
      "\n",
      "[8086 rows x 5 columns]\n"
     ]
    }
   ],
   "source": [
    "Filepath= r\"Dataset.csv\"\n",
    "df=pd.read_csv(Filepath)\n",
    "print(df)"
   ]
  },
  {
   "cell_type": "code",
   "execution_count": null,
   "id": "10f2b970-18b3-44a1-9548-007e8ed15b41",
   "metadata": {},
   "outputs": [],
   "source": []
  }
 ],
 "metadata": {
  "kernelspec": {
   "display_name": "Python 3 (ipykernel)",
   "language": "python",
   "name": "python3"
  },
  "language_info": {
   "codemirror_mode": {
    "name": "ipython",
    "version": 3
   },
   "file_extension": ".py",
   "mimetype": "text/x-python",
   "name": "python",
   "nbconvert_exporter": "python",
   "pygments_lexer": "ipython3",
   "version": "3.10.5"
  }
 },
 "nbformat": 4,
 "nbformat_minor": 5
}
