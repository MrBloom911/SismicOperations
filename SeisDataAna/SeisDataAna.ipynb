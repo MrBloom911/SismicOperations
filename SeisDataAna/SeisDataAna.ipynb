{
 "cells": [
  {
   "cell_type": "code",
   "execution_count": 3,
   "id": "14ff6fbd-e8e3-462c-84c0-966076934b6b",
   "metadata": {},
   "outputs": [],
   "source": [
    "import numpy as np\n",
    "import scipy as sp\n",
    "import matplotlib.pyplot as plt\n",
    "import pandas as pd"
   ]
  },
  {
   "cell_type": "code",
   "execution_count": 4,
   "id": "6e1a8a76-f5b0-4042-8927-508e2049f3db",
   "metadata": {},
   "outputs": [
    {
     "name": "stdout",
     "output_type": "stream",
     "text": [
      "Note: you may need to restart the kernel to use updated packages.Requirement already satisfied: seisbench in c:\\users\\juan jimenez\\appdata\\local\\programs\\python\\python310\\lib\\site-packages (0.4.0)\n",
      "Requirement already satisfied: numpy>=1.21.6 in c:\\users\\juan jimenez\\appdata\\local\\programs\\python\\python310\\lib\\site-packages (from seisbench) (1.23.1)\n",
      "Requirement already satisfied: pandas>=1.1 in c:\\users\\juan jimenez\\appdata\\local\\programs\\python\\python310\\lib\\site-packages (from seisbench) (1.5.0)\n",
      "Requirement already satisfied: h5py>=3.1 in c:\\users\\juan jimenez\\appdata\\local\\programs\\python\\python310\\lib\\site-packages (from seisbench) (3.8.0)\n",
      "Requirement already satisfied: obspy>=1.3.1 in c:\\users\\juan jimenez\\appdata\\local\\programs\\python\\python310\\lib\\site-packages (from seisbench) (1.4.0)\n",
      "Requirement already satisfied: tqdm>=4.52 in c:\\users\\juan jimenez\\appdata\\local\\programs\\python\\python310\\lib\\site-packages (from seisbench) (4.64.1)\n",
      "Requirement already satisfied: torch>=1.10.0 in c:\\users\\juan jimenez\\appdata\\local\\programs\\python\\python310\\lib\\site-packages (from seisbench) (2.0.1)\n",
      "Requirement already satisfied: scipy>=1.5 in c:\\users\\juan jimenez\\appdata\\local\\programs\\python\\python310\\lib\\site-packages (from seisbench) (1.9.1)\n",
      "Requirement already satisfied: nest-asyncio>=1.5.3 in c:\\users\\juan jimenez\\appdata\\local\\programs\\python\\python310\\lib\\site-packages (from seisbench) (1.5.5)\n",
      "Requirement already satisfied: matplotlib>=3.3 in c:\\users\\juan jimenez\\appdata\\local\\programs\\python\\python310\\lib\\site-packages (from obspy>=1.3.1->seisbench) (3.5.2)\n",
      "Requirement already satisfied: lxml in c:\\users\\juan jimenez\\appdata\\local\\programs\\python\\python310\\lib\\site-packages (from obspy>=1.3.1->seisbench) (4.9.1)\n",
      "Requirement already satisfied: setuptools in c:\\users\\juan jimenez\\appdata\\local\\programs\\python\\python310\\lib\\site-packages (from obspy>=1.3.1->seisbench) (58.1.0)\n",
      "Requirement already satisfied: sqlalchemy in c:\\users\\juan jimenez\\appdata\\local\\programs\\python\\python310\\lib\\site-packages (from obspy>=1.3.1->seisbench) (2.0.15)\n",
      "Requirement already satisfied: decorator in c:\\users\\juan jimenez\\appdata\\local\\programs\\python\\python310\\lib\\site-packages (from obspy>=1.3.1->seisbench) (5.1.1)\n",
      "Requirement already satisfied: requests in c:\\users\\juan jimenez\\appdata\\local\\programs\\python\\python310\\lib\\site-packages (from obspy>=1.3.1->seisbench) (2.28.1)\n",
      "Requirement already satisfied: python-dateutil>=2.8.1 in c:\\users\\juan jimenez\\appdata\\local\\programs\\python\\python310\\lib\\site-packages (from pandas>=1.1->seisbench) (2.8.2)\n",
      "Requirement already satisfied: pytz>=2020.1 in c:\\users\\juan jimenez\\appdata\\local\\programs\\python\\python310\\lib\\site-packages (from pandas>=1.1->seisbench) (2022.4)\n",
      "Requirement already satisfied: filelock in c:\\users\\juan jimenez\\appdata\\local\\programs\\python\\python310\\lib\\site-packages (from torch>=1.10.0->seisbench) (3.12.0)\n",
      "Requirement already satisfied: typing-extensions in c:\\users\\juan jimenez\\appdata\\local\\programs\\python\\python310\\lib\\site-packages (from torch>=1.10.0->seisbench) (4.6.1)\n",
      "Requirement already satisfied: sympy in c:\\users\\juan jimenez\\appdata\\local\\programs\\python\\python310\\lib\\site-packages (from torch>=1.10.0->seisbench) (1.12)\n",
      "Requirement already satisfied: networkx in c:\\users\\juan jimenez\\appdata\\local\\programs\\python\\python310\\lib\\site-packages (from torch>=1.10.0->seisbench) (3.1)\n",
      "Requirement already satisfied: jinja2 in c:\\users\\juan jimenez\\appdata\\local\\programs\\python\\python310\\lib\\site-packages (from torch>=1.10.0->seisbench) (3.1.2)\n",
      "Requirement already satisfied: colorama in c:\\users\\juan jimenez\\appdata\\local\\programs\\python\\python310\\lib\\site-packages (from tqdm>=4.52->seisbench) (0.4.5)\n",
      "Requirement already satisfied: cycler>=0.10 in c:\\users\\juan jimenez\\appdata\\local\\programs\\python\\python310\\lib\\site-packages (from matplotlib>=3.3->obspy>=1.3.1->seisbench) (0.11.0)\n",
      "Requirement already satisfied: fonttools>=4.22.0 in c:\\users\\juan jimenez\\appdata\\local\\programs\\python\\python310\\lib\\site-packages (from matplotlib>=3.3->obspy>=1.3.1->seisbench) (4.34.4)\n",
      "Requirement already satisfied: kiwisolver>=1.0.1 in c:\\users\\juan jimenez\\appdata\\local\\programs\\python\\python310\\lib\\site-packages (from matplotlib>=3.3->obspy>=1.3.1->seisbench) (1.4.4)\n",
      "Requirement already satisfied: packaging>=20.0 in c:\\users\\juan jimenez\\appdata\\local\\programs\\python\\python310\\lib\\site-packages (from matplotlib>=3.3->obspy>=1.3.1->seisbench) (21.3)\n",
      "Requirement already satisfied: pillow>=6.2.0 in c:\\users\\juan jimenez\\appdata\\local\\programs\\python\\python310\\lib\\site-packages (from matplotlib>=3.3->obspy>=1.3.1->seisbench) (9.2.0)\n",
      "Requirement already satisfied: pyparsing>=2.2.1 in c:\\users\\juan jimenez\\appdata\\local\\programs\\python\\python310\\lib\\site-packages (from matplotlib>=3.3->obspy>=1.3.1->seisbench) (3.0.9)\n",
      "Requirement already satisfied: six>=1.5 in c:\\users\\juan jimenez\\appdata\\local\\programs\\python\\python310\\lib\\site-packages (from python-dateutil>=2.8.1->pandas>=1.1->seisbench) (1.16.0)\n",
      "Requirement already satisfied: MarkupSafe>=2.0 in c:\\users\\juan jimenez\\appdata\\local\\programs\\python\\python310\\lib\\site-packages (from jinja2->torch>=1.10.0->seisbench) (2.1.1)\n",
      "Requirement already satisfied: charset-normalizer<3,>=2 in c:\\users\\juan jimenez\\appdata\\local\\programs\\python\\python310\\lib\\site-packages (from requests->obspy>=1.3.1->seisbench) (2.1.1)\n",
      "Requirement already satisfied: idna<4,>=2.5 in c:\\users\\juan jimenez\\appdata\\local\\programs\\python\\python310\\lib\\site-packages (from requests->obspy>=1.3.1->seisbench) (3.4)\n",
      "Requirement already satisfied: urllib3<1.27,>=1.21.1 in c:\\users\\juan jimenez\\appdata\\local\\programs\\python\\python310\\lib\\site-packages (from requests->obspy>=1.3.1->seisbench) (1.26.12)\n",
      "Requirement already satisfied: certifi>=2017.4.17 in c:\\users\\juan jimenez\\appdata\\local\\programs\\python\\python310\\lib\\site-packages (from requests->obspy>=1.3.1->seisbench) (2022.9.24)\n",
      "Requirement already satisfied: greenlet!=0.4.17 in c:\\users\\juan jimenez\\appdata\\local\\programs\\python\\python310\\lib\\site-packages (from sqlalchemy->obspy>=1.3.1->seisbench) (2.0.2)\n",
      "Requirement already satisfied: mpmath>=0.19 in c:\\users\\juan jimenez\\appdata\\local\\programs\\python\\python310\\lib\\site-packages (from sympy->torch>=1.10.0->seisbench) (1.3.0)\n",
      "\n"
     ]
    },
    {
     "name": "stderr",
     "output_type": "stream",
     "text": [
      "\n",
      "[notice] A new release of pip is available: 23.1.2 -> 24.0\n",
      "[notice] To update, run: python.exe -m pip install --upgrade pip\n"
     ]
    }
   ],
   "source": [
    "pip install seisbench "
   ]
  },
  {
   "cell_type": "code",
   "execution_count": 9,
   "id": "b9ac1369-6b9c-44dd-a648-fc57eccba960",
   "metadata": {},
   "outputs": [],
   "source": [
    "import seisbench\n",
    "import seisbench.data as sbd\n"
   ]
  },
  {
   "cell_type": "code",
   "execution_count": 12,
   "id": "73414497-0ef0-4591-a73a-31d07b6d320d",
   "metadata": {},
   "outputs": [],
   "source": [
    "from urllib.parse import urljoin\n",
    "\n",
    "seisbench.remote_root = \"https://hifis-storage.desy.de:2880/Helmholtz/HelmholtzAI/SeisBench/\"\n",
    "seisbench.remote_data_root = urljoin(seisbench.remote_root, \"datasets/\")\n",
    "seisbench.remote_model_root = urljoin(seisbench.remote_root, \"models/v3/\")"
   ]
  },
  {
   "cell_type": "code",
   "execution_count": 13,
   "id": "5028cb60-9d60-4977-a594-0a58619040fd",
   "metadata": {},
   "outputs": [
    {
     "name": "stdout",
     "output_type": "stream",
     "text": [
      "DummyDataset - 100 traces\n"
     ]
    }
   ],
   "source": [
    "Data=sbd.DummyDataset()\n",
    "print(Data)"
   ]
  },
  {
   "cell_type": "code",
   "execution_count": null,
   "id": "546c3113-9858-4798-9536-54dd09e9e3e9",
   "metadata": {},
   "outputs": [],
   "source": []
  }
 ],
 "metadata": {
  "kernelspec": {
   "display_name": "Python 3 (ipykernel)",
   "language": "python",
   "name": "python3"
  },
  "language_info": {
   "codemirror_mode": {
    "name": "ipython",
    "version": 3
   },
   "file_extension": ".py",
   "mimetype": "text/x-python",
   "name": "python",
   "nbconvert_exporter": "python",
   "pygments_lexer": "ipython3",
   "version": "3.10.5"
  }
 },
 "nbformat": 4,
 "nbformat_minor": 5
}
